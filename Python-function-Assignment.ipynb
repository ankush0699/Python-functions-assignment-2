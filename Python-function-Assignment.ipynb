{
 "cells": [
  {
   "cell_type": "code",
   "execution_count": 106,
   "metadata": {},
   "outputs": [],
   "source": [
    "# Name: Ankush Shukla   e-mail: ankushshukla0612@gmail.com \n",
    "# Python_function_assignment"
   ]
  },
  {
   "cell_type": "code",
   "execution_count": 107,
   "metadata": {},
   "outputs": [],
   "source": [
    "#Question_1:  What is a lambda function in Python, and how does it differ from a regular function?"
   ]
  },
  {
   "cell_type": "code",
   "execution_count": 108,
   "metadata": {},
   "outputs": [
    {
     "data": {
      "text/plain": [
       "\"\\nLambda functions are defined using the lambda keyword, followed by a list of arguments, a colon (:), \\nand an expression that is evaluated and returned as the function's result.\\n\\n  \\n  \\nLambda functions are anonymous, meaning they don't have a name. They are often used for short, one-time operations \\nwhere defining a named function is overkill.\\n\\nWhile on the other hand, regular functions are defined using def keyword, they are named functions and resuable.\\n\\n\""
      ]
     },
     "execution_count": 108,
     "metadata": {},
     "output_type": "execute_result"
    }
   ],
   "source": [
    " #Answer:\n",
    "\n",
    "\"\"\"\n",
    "Lambda functions are defined using the lambda keyword, followed by a list of arguments, a colon (:), \n",
    "and an expression that is evaluated and returned as the function's result.\n",
    "\n",
    "   \n",
    "   \n",
    "Lambda functions are anonymous, meaning they don't have a name. They are often used for short, one-time operations \n",
    "where defining a named function is overkill.\n",
    "\n",
    "While on the other hand, regular functions are defined using def keyword, they are named functions and resuable.\n",
    "\n",
    "\"\"\""
   ]
  },
  {
   "cell_type": "code",
   "execution_count": 109,
   "metadata": {},
   "outputs": [],
   "source": [
    "#Question_2:  Can a lambda function in Python have multiple arguments? \n",
    "#             If yes, how can you define and use them?"
   ]
  },
  {
   "cell_type": "code",
   "execution_count": 110,
   "metadata": {},
   "outputs": [
    {
     "name": "stdout",
     "output_type": "stream",
     "text": [
      "7\n"
     ]
    }
   ],
   "source": [
    "#Answer:\n",
    "\n",
    "\"\"\"  \n",
    "Yes, a lambda function in Python can have multiple arguments. We can define and use them in a lambda function \n",
    "just like we would with a regular function, but with a more compact syntax.\n",
    "\n",
    "General syntax of lambda function with multiple arguments is - lambda argument1, argument2, ... : expression\n",
    "\"\"\"\n",
    "#example:\n",
    "\n",
    "add = lambda x, y: x + y\n",
    "result = add(3, 4)\n",
    "print(result)\n",
    "\n"
   ]
  },
  {
   "cell_type": "code",
   "execution_count": 111,
   "metadata": {},
   "outputs": [],
   "source": [
    "#Question_3:  How are lambda functions typically used in Python? Provide an example use case."
   ]
  },
  {
   "cell_type": "code",
   "execution_count": 112,
   "metadata": {},
   "outputs": [
    {
     "name": "stdout",
     "output_type": "stream",
     "text": [
      "{'name': 'Bob', 'age': 25}\n",
      "{'name': 'Alice', 'age': 30}\n",
      "{'name': 'Charlie', 'age': 35}\n"
     ]
    }
   ],
   "source": [
    "# Answer:\n",
    "\n",
    "\"\"\"Lambda functions in Python are typically used for small, simple, and one-off tasks, \n",
    "   where we need a quick and compact function without the formality of defining a full named function. \n",
    "   They are often used in situations where we need to pass a function as an argument to another function, \n",
    "   particularly with higher-order functions like map, filter, and sorted.\"\"\"  \n",
    "\n",
    "\n",
    "# Example Use Case: Sorting a list of dictionaries\n",
    "\n",
    "people = [\n",
    "    {\"name\": \"Alice\", \"age\": 30},\n",
    "    {\"name\": \"Bob\", \"age\": 25},\n",
    "    {\"name\": \"Charlie\", \"age\": 35}\n",
    "]\n",
    "\n",
    "# Sorting the list of dictionaries based on age.\n",
    "sorted_people = sorted(people, key=lambda people: people[\"age\"])\n",
    "\n",
    "for people in sorted_people:\n",
    "    print(people)\n"
   ]
  },
  {
   "cell_type": "code",
   "execution_count": 113,
   "metadata": {},
   "outputs": [],
   "source": [
    "#Question_4:  What are the advantages and limitations of lambda functions compared to regular functions in\n",
    "#             Python?"
   ]
  },
  {
   "cell_type": "code",
   "execution_count": 114,
   "metadata": {},
   "outputs": [
    {
     "data": {
      "text/plain": [
       "\"\\n\\n#  Advantages of Lambda Functions:\\n\\n1. Conciseness: Lambda functions are concise and can be defined in a single line. \\n                We find them particularly useful for simple operations where a full function definition would be overkill.\\n\\n2. Anonymous: Lambda functions are anonymous, meaning they don't need a name. \\n              This is helpful when we need a small function for a specific task without polluting the namespace with function names.\\n\\n3. Readability: In some cases, lambda functions can improve code readability, especially when used with higher-order functions. \\n                For example, sorting or filtering operations become more compact and clear.\\n\\n4. Inline Usage: Lambda functions can be used directly within function calls as arguments. \\n                 This can make code more elegant and self-contained.\\n\\n\\n\\n#  Limitations of Lambda Functions:\\n\\n1. Limited Functionality: Lambda functions are restricted to single expressions. They can't contain multiple statements or complex logic. \\n                          This limitation makes them unsuitable for more complex tasks.\\n\\n2. No Documentation: Lambda functions lack docstrings and proper function names, which makes it difficult \\n                     to provide detailed documentation and makes debugging more challenging.\\n\\n3. Reduced Reusability: Regular functions can be reused across our codebase, while lambda functions are typically limited \\n                        to a specific context.\\n\\n4. Scope of Variables: Lambda functions can access variables from their outer scope, but this can sometimes lead to unexpected behavior, \\n                       particularly if the variables are mutable.\\n\\n\""
      ]
     },
     "execution_count": 114,
     "metadata": {},
     "output_type": "execute_result"
    }
   ],
   "source": [
    "#Answer:\n",
    "\n",
    "\"\"\"\n",
    "\n",
    "#  Advantages of Lambda Functions:\n",
    "\n",
    "1. Conciseness: Lambda functions are concise and can be defined in a single line. \n",
    "                We find them particularly useful for simple operations where a full function definition would be overkill.\n",
    "\n",
    "2. Anonymous: Lambda functions are anonymous, meaning they don't need a name. \n",
    "              This is helpful when we need a small function for a specific task without polluting the namespace with function names.\n",
    "\n",
    "3. Readability: In some cases, lambda functions can improve code readability, especially when used with higher-order functions. \n",
    "                For example, sorting or filtering operations become more compact and clear.\n",
    "\n",
    "4. Inline Usage: Lambda functions can be used directly within function calls as arguments. \n",
    "                 This can make code more elegant and self-contained.\n",
    "\n",
    "\n",
    "\n",
    "#  Limitations of Lambda Functions:\n",
    "\n",
    "1. Limited Functionality: Lambda functions are restricted to single expressions. They can't contain multiple statements or complex logic. \n",
    "                          This limitation makes them unsuitable for more complex tasks.\n",
    "\n",
    "2. No Documentation: Lambda functions lack docstrings and proper function names, which makes it difficult \n",
    "                     to provide detailed documentation and makes debugging more challenging.\n",
    "\n",
    "3. Reduced Reusability: Regular functions can be reused across our codebase, while lambda functions are typically limited \n",
    "                        to a specific context.\n",
    "\n",
    "4. Scope of Variables: Lambda functions can access variables from their outer scope, but this can sometimes lead to unexpected behavior, \n",
    "                       particularly if the variables are mutable.\n",
    "\n",
    "\"\"\""
   ]
  },
  {
   "cell_type": "code",
   "execution_count": 115,
   "metadata": {},
   "outputs": [],
   "source": [
    "#Question_5:  Are lambda functions in Python able to access variables defined outside of their own scope?\n",
    "#             Explain with an example."
   ]
  },
  {
   "cell_type": "code",
   "execution_count": 116,
   "metadata": {},
   "outputs": [
    {
     "name": "stdout",
     "output_type": "stream",
     "text": [
      "15\n"
     ]
    }
   ],
   "source": [
    "#Answer: Yes, lambda functions in Python can access variables defined outside of their own scope. \n",
    "\n",
    "x = 10\n",
    "\n",
    "# Defining a lambda function that uses the variable 'x' from the outer scope\n",
    "my_lambda = lambda y: x + y\n",
    "\n",
    "result = my_lambda(5)  \n",
    "print(result) \n"
   ]
  },
  {
   "cell_type": "code",
   "execution_count": 117,
   "metadata": {},
   "outputs": [],
   "source": [
    "#Question_6:  Write a lambda function to calculate the square of a given number."
   ]
  },
  {
   "cell_type": "code",
   "execution_count": 118,
   "metadata": {},
   "outputs": [
    {
     "name": "stdout",
     "output_type": "stream",
     "text": [
      "25\n"
     ]
    }
   ],
   "source": [
    "#Answer:\n",
    "\n",
    "square = lambda x: x ** 2\n",
    "result = square(5)\n",
    "print(result)"
   ]
  },
  {
   "cell_type": "code",
   "execution_count": 119,
   "metadata": {},
   "outputs": [],
   "source": [
    "#Question_7:  Create a lambda function to find the maximum value in a list of integers."
   ]
  },
  {
   "cell_type": "code",
   "execution_count": 120,
   "metadata": {},
   "outputs": [
    {
     "name": "stdout",
     "output_type": "stream",
     "text": [
      "42\n"
     ]
    }
   ],
   "source": [
    "#Answer:\n",
    "\n",
    "my_list = [10, 25, 7, 42, 19, 31]\n",
    "\n",
    "find_max = lambda x: max(x) # Lambda function to find the maximum value\n",
    "max_value = find_max(my_list)\n",
    "\n",
    "print(max_value)"
   ]
  },
  {
   "cell_type": "code",
   "execution_count": 121,
   "metadata": {},
   "outputs": [],
   "source": [
    "#Question_8:  Implement a lambda function to filter out all the even numbers from a list of integers."
   ]
  },
  {
   "cell_type": "code",
   "execution_count": 122,
   "metadata": {},
   "outputs": [
    {
     "name": "stdout",
     "output_type": "stream",
     "text": [
      "[10, 42, 4, 8, 6]\n"
     ]
    }
   ],
   "source": [
    "#Answer:\n",
    "\n",
    "my_list = [10, 25, 7, 42, 19, 31, 4, 8, 6]\n",
    "\n",
    "filter_even = lambda x: x % 2 == 0   # Lambda function to filter out even numbers\n",
    "\n",
    "even_numbers = list(filter(filter_even, my_list))\n",
    "\n",
    "print(even_numbers)\n"
   ]
  },
  {
   "cell_type": "code",
   "execution_count": 123,
   "metadata": {},
   "outputs": [],
   "source": [
    "#Question_9:  Write a lambda function to sort a list of strings in ascending order based on the length of each\n",
    "#             string."
   ]
  },
  {
   "cell_type": "code",
   "execution_count": 124,
   "metadata": {},
   "outputs": [
    {
     "name": "stdout",
     "output_type": "stream",
     "text": [
      "['fig', 'date', 'apple', 'banana', 'cherry']\n"
     ]
    }
   ],
   "source": [
    "#Answer:\n",
    "\n",
    "my_list = [\"apple\", \"banana\", \"cherry\", \"date\", \"fig\"]\n",
    "\n",
    "sort_by_length = lambda s: len(s) # Lambda function to sort based on string length\n",
    "\n",
    "sorted_list = sorted(my_list, key=sort_by_length)\n",
    "\n",
    "print(sorted_list)\n"
   ]
  },
  {
   "cell_type": "code",
   "execution_count": 125,
   "metadata": {},
   "outputs": [],
   "source": [
    "#Question_10:  Create a lambda function that takes two lists as input and returns a new list containing the\n",
    "#              common elements between the two lists."
   ]
  },
  {
   "cell_type": "code",
   "execution_count": 126,
   "metadata": {},
   "outputs": [
    {
     "name": "stdout",
     "output_type": "stream",
     "text": [
      "[3, 4, 5]\n"
     ]
    }
   ],
   "source": [
    "#Answer:\n",
    "\n",
    "list1 = [1, 2, 3, 4, 5]\n",
    "list2 = [3, 4, 5, 6, 7]\n",
    "\n",
    "find_common = lambda a, b: list(filter(lambda x: x in a, b))   # Lambda function to find common elements\n",
    "\n",
    "common_elements = find_common(list1, list2)\n",
    "\n",
    "print(common_elements)\n"
   ]
  },
  {
   "cell_type": "code",
   "execution_count": 127,
   "metadata": {},
   "outputs": [],
   "source": [
    "#Question_11: Write a recursive function to calculate the factorial of a given positive integer."
   ]
  },
  {
   "cell_type": "code",
   "execution_count": 128,
   "metadata": {},
   "outputs": [
    {
     "name": "stdout",
     "output_type": "stream",
     "text": [
      "5! = 120\n"
     ]
    }
   ],
   "source": [
    "#Answer:\n",
    "\n",
    "def factorial(n):\n",
    "    if n == 0:\n",
    "        return 1\n",
    "    else:\n",
    "        return n * factorial(n - 1)\n",
    "    \n",
    "n = 5\n",
    "result = factorial(n)\n",
    "print(f\"{n}! = {result}\")\n"
   ]
  },
  {
   "cell_type": "code",
   "execution_count": 129,
   "metadata": {},
   "outputs": [],
   "source": [
    "#Question_12:  Implement a recursive function to compute the nth Fibonacci number."
   ]
  },
  {
   "cell_type": "code",
   "execution_count": 130,
   "metadata": {},
   "outputs": [
    {
     "name": "stdout",
     "output_type": "stream",
     "text": [
      "The 7th Fibonacci number is 13\n"
     ]
    }
   ],
   "source": [
    "#Answer:\n",
    "\n",
    "def fibonacci(n):\n",
    "    if n <= 0:\n",
    "        return 0\n",
    "    elif n == 1:\n",
    "        return 1\n",
    "    else:\n",
    "        return fibonacci(n - 1) + fibonacci(n - 2)\n",
    "\n",
    "n = 7\n",
    "result = fibonacci(n)\n",
    "\n",
    "print(f\"The {n}th Fibonacci number is {result}\")\n"
   ]
  },
  {
   "cell_type": "code",
   "execution_count": 131,
   "metadata": {},
   "outputs": [],
   "source": [
    "#Question_13:  Create a recursive function to find the sum of all the elements in a given list."
   ]
  },
  {
   "cell_type": "code",
   "execution_count": 132,
   "metadata": {},
   "outputs": [
    {
     "name": "stdout",
     "output_type": "stream",
     "text": [
      "The sum of the elements in the list is 15\n"
     ]
    }
   ],
   "source": [
    "#Answer:\n",
    "\n",
    "def sum(given_list):\n",
    "    if not given_list:\n",
    "        return 0\n",
    "    else:\n",
    "        return given_list[0] + sum(given_list[1:])\n",
    "\n",
    "my_list = [1, 2, 3, 4, 5]\n",
    "result = sum(my_list)\n",
    "print(f\"The sum of the elements in the list is {result}\")\n"
   ]
  },
  {
   "cell_type": "code",
   "execution_count": 133,
   "metadata": {},
   "outputs": [],
   "source": [
    "#Question_14:  Write a recursive function to determine whether a given string is a palindrome."
   ]
  },
  {
   "cell_type": "code",
   "execution_count": 134,
   "metadata": {},
   "outputs": [
    {
     "name": "stdout",
     "output_type": "stream",
     "text": [
      "'racecar' is a palindrome: True\n"
     ]
    }
   ],
   "source": [
    "#Answer: \n",
    "\n",
    "def is_palindrome(x):\n",
    "    # Remove spaces and convert to lowercase for case-insensitive comparison\n",
    "    x = x.replace(\" \", \"\").lower()\n",
    "    \n",
    "    if len(x) <= 1:\n",
    "        return True\n",
    "    elif x[0] == x[-1]:\n",
    "        return is_palindrome(x[1:-1])\n",
    "    else:\n",
    "        return False\n",
    "    \n",
    "string1 = \"racecar\"\n",
    "result1 = is_palindrome(string1)\n",
    "print(f\"'{string1}' is a palindrome: {result1}\")\n",
    "\n"
   ]
  },
  {
   "cell_type": "code",
   "execution_count": 135,
   "metadata": {},
   "outputs": [],
   "source": [
    "#Question_15:  Implement a recursive function to find the greatest common divisor (GCD) of two positive integers."
   ]
  },
  {
   "cell_type": "code",
   "execution_count": 136,
   "metadata": {},
   "outputs": [
    {
     "name": "stdout",
     "output_type": "stream",
     "text": [
      "The GCD of 48 and 18 is 6\n"
     ]
    }
   ],
   "source": [
    "#Answer: \n",
    "\n",
    "def gcd(a, b):\n",
    "    if b == 0:\n",
    "        return a\n",
    "    else:\n",
    "        return gcd(b, a % b)\n",
    "\n",
    "num1 = 48\n",
    "num2 = 18\n",
    "result = gcd(num1, num2)\n",
    "print(f\"The GCD of {num1} and {num2} is {result}\")\n"
   ]
  }
 ],
 "metadata": {
  "kernelspec": {
   "display_name": "base",
   "language": "python",
   "name": "python3"
  },
  "language_info": {
   "codemirror_mode": {
    "name": "ipython",
    "version": 3
   },
   "file_extension": ".py",
   "mimetype": "text/x-python",
   "name": "python",
   "nbconvert_exporter": "python",
   "pygments_lexer": "ipython3",
   "version": "3.11.4"
  }
 },
 "nbformat": 4,
 "nbformat_minor": 2
}
